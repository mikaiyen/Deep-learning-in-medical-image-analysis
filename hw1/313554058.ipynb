{
 "cells": [
  {
   "cell_type": "markdown",
   "metadata": {},
   "source": [
    "# Homework 1：簡易手寫數字辨識\n",
    "助教email:　boxunwen2001@gmail.com\n",
    "\n",
    "在這個notebook中，有許多的 TODO 需要你填寫。\n",
    "1. 調整適當的參數\n",
    "2. 試著畫出每一個類別的樣本數量，填寫 yaxis=\n",
    "3. 寫出當 mode = valid、test 的 getitem()\n",
    "4. 將所看到的空格都填滿，總共要填三個部分: range()、reshape(, )、axes[ , ]\n",
    "5. 建立自己喜歡的 model 架構\n",
    "6. 嘗試去計算 misclassification_rate\n",
    "7. 助教挖掉了一小部分，請你讓它可以運作起來。\n",
    "8. split the training dataset in a 80: 20，填寫 train_size= , test_size= 。\n",
    "9. val_dataset = \n",
    "10. 調整適當的 optimizer、scheduler，不調也可以，但排名不容許你這樣做。\n",
    "11. 畫出 train 跟 valid 的 Misclassification Rate 圖。\n",
    "12. 在 testing 這個 def 填空格。\n",
    "13. 填寫test_data、test_dataset、test_loader、model 四個空格。\n",
    "14. 為輸出的 csv 檔命名。"
   ]
  },
  {
   "cell_type": "code",
   "execution_count": 1,
   "metadata": {},
   "outputs": [
    {
     "name": "stdout",
     "output_type": "stream",
     "text": [
      "2.4.1+cu118\n",
      "11.8\n",
      "90100\n",
      "True\n"
     ]
    }
   ],
   "source": [
    "# For data loading and scientific computing\n",
    "import pandas as pd\n",
    "import numpy as np\n",
    "import random\n",
    "import os\n",
    "import csv\n",
    "\n",
    "# For data visualization\n",
    "import matplotlib.pyplot as plt\n",
    "import plotly.express as px\n",
    "\n",
    "# Deep learning framework\n",
    "import torch\n",
    "print(torch.__version__)\n",
    "print(torch.version.cuda)\n",
    "print(torch.backends.cudnn.version())\n",
    "print(torch.cuda.is_available())\n",
    "import torch.nn as nn\n",
    "\n",
    "# data processing and evaluation\n",
    "from sklearn.model_selection import train_test_split\n",
    "from sklearn.metrics import accuracy_score, f1_score\n",
    "\n",
    "import warnings\n",
    "warnings.filterwarnings('ignore')"
   ]
  },
  {
   "cell_type": "markdown",
   "metadata": {},
   "source": [
    "## Configuration"
   ]
  },
  {
   "cell_type": "code",
   "execution_count": 2,
   "metadata": {},
   "outputs": [],
   "source": [
    "# TODO_1: 調整適當的參數\n",
    "class config:\n",
    "    root = \"Users\\mikai\\OneDrive\\Desktop\\MIA\\hw1\"\n",
    "    batch_size = 64      # 通常是2的倍數\n",
    "    lr = 1e-3            # 通常是10的倍數，1e-8 = 10^-8\n",
    "    epochs = 50           # 看你心情要設多少\n",
    "    weight_decay = 0.01  #對loss funtion的懲罰項，模型越複雜，loss會越大，有防止overfitting的用意。\n",
    "    device = torch.device(\"cuda\" if torch.cuda.is_available() else \"cpu\")\n",
    "    seed = 42            # 看你心情要設多少"
   ]
  },
  {
   "cell_type": "markdown",
   "metadata": {},
   "source": [
    "## Utils"
   ]
  },
  {
   "cell_type": "code",
   "execution_count": 3,
   "metadata": {},
   "outputs": [],
   "source": [
    "def seed_everything(seed):\n",
    "    # Set Python random seed\n",
    "    random.seed(seed)\n",
    "    \n",
    "    # Set NumPy random seed\n",
    "    np.random.seed(seed)\n",
    "    \n",
    "    # Set PyTorch random seed for CPU and GPU\n",
    "    torch.manual_seed(seed)\n",
    "    if torch.cuda.is_available():\n",
    "        torch.cuda.manual_seed_all(seed)\n",
    "    \n",
    "    # Set PyTorch deterministic operations for cudnn backend\n",
    "    torch.backends.cudnn.deterministic = True  #True:確保相同輸入有相同輸出\n",
    "    torch.backends.cudnn.benchmark = False     #True:自動尋找最佳算法，提升運算效率，但這裡我們設成 False 。"
   ]
  },
  {
   "cell_type": "markdown",
   "metadata": {},
   "source": [
    "## EDA\n",
    "\n",
    "從下面的 dataframe 可以看出，第一個 column 表示 image_id ，第二個 column 表示每個樣本的類別，剩餘 256 個 columns 表示影像的灰階 pixel values"
   ]
  },
  {
   "cell_type": "code",
   "execution_count": 4,
   "metadata": {},
   "outputs": [
    {
     "name": "stdout",
     "output_type": "stream",
     "text": [
      "        0    1    2    3    4      5      6      7      8      9    ...  \\\n",
      "0        A1    6 -1.0 -1.0 -1.0 -1.000 -1.000 -1.000 -1.000 -0.631  ...   \n",
      "1        A2    5 -1.0 -1.0 -1.0 -0.813 -0.671 -0.809 -0.887 -0.671  ...   \n",
      "2        A3    4 -1.0 -1.0 -1.0 -1.000 -1.000 -1.000 -1.000 -1.000  ...   \n",
      "3        A4    7 -1.0 -1.0 -1.0 -1.000 -1.000 -0.273  0.684  0.960  ...   \n",
      "4        A5    3 -1.0 -1.0 -1.0 -1.000 -1.000 -0.928 -0.204  0.751  ...   \n",
      "...     ...  ...  ...  ...  ...    ...    ...    ...    ...    ...  ...   \n",
      "7286  A7287    3 -1.0 -1.0 -1.0 -0.988 -0.527 -0.208  0.620  1.000  ...   \n",
      "7287  A7288    3 -1.0 -1.0 -1.0 -0.990  0.708  0.557  0.347 -0.107  ...   \n",
      "7288  A7289    3 -1.0 -1.0 -1.0 -0.783 -0.984 -0.827  0.068  1.000  ...   \n",
      "7289  A7290    0 -1.0 -1.0 -1.0 -1.000 -1.000 -0.549  0.463  0.999  ...   \n",
      "7290  A7291    1 -1.0 -1.0 -1.0 -1.000 -1.000 -0.108  1.000  0.616  ...   \n",
      "\n",
      "        248    249    250    251    252    253    254    255    256  257  \n",
      "0     0.304  0.823  1.000  0.482 -0.474 -0.991 -1.000 -1.000 -1.000 -1.0  \n",
      "1    -0.671 -0.671 -0.033  0.761  0.762  0.126 -0.095 -0.671 -0.828 -1.0  \n",
      "2    -1.000 -1.000 -1.000 -0.109  1.000 -0.179 -1.000 -1.000 -1.000 -1.0  \n",
      "3    -0.318  1.000  0.536 -0.987 -1.000 -1.000 -1.000 -1.000 -1.000 -1.0  \n",
      "4     0.466  0.639  1.000  1.000  0.791  0.439 -0.199 -0.883 -1.000 -1.0  \n",
      "...     ...    ...    ...    ...    ...    ...    ...    ...    ...  ...  \n",
      "7286 -0.116  0.899  0.416 -0.510 -1.000 -1.000 -1.000 -1.000 -1.000 -1.0  \n",
      "7287  0.697  0.636  0.167 -0.968 -1.000 -1.000 -1.000 -1.000 -1.000 -1.0  \n",
      "7288  0.805  1.000  1.000  0.727 -0.342 -0.933 -1.000 -1.000 -1.000 -1.0  \n",
      "7289 -0.231  0.621  0.999 -0.042 -0.231 -0.687 -1.000 -1.000 -1.000 -1.0  \n",
      "7290 -0.634  0.803  0.589 -0.907 -1.000 -1.000 -1.000 -1.000 -1.000 -1.0  \n",
      "\n",
      "[7291 rows x 258 columns]\n"
     ]
    }
   ],
   "source": [
    "# Read in the dataframe\n",
    "train_data = pd.read_csv('zip.train.csv', header=None)\n",
    "test_data = pd.read_csv('zip.test.csv', header=None)\n",
    "print(train_data)"
   ]
  },
  {
   "cell_type": "code",
   "execution_count": 5,
   "metadata": {},
   "outputs": [
    {
     "data": {
      "text/html": [
       "<div>\n",
       "<style scoped>\n",
       "    .dataframe tbody tr th:only-of-type {\n",
       "        vertical-align: middle;\n",
       "    }\n",
       "\n",
       "    .dataframe tbody tr th {\n",
       "        vertical-align: top;\n",
       "    }\n",
       "\n",
       "    .dataframe thead th {\n",
       "        text-align: right;\n",
       "    }\n",
       "</style>\n",
       "<table border=\"1\" class=\"dataframe\">\n",
       "  <thead>\n",
       "    <tr style=\"text-align: right;\">\n",
       "      <th></th>\n",
       "      <th>2</th>\n",
       "      <th>3</th>\n",
       "      <th>4</th>\n",
       "      <th>5</th>\n",
       "      <th>6</th>\n",
       "      <th>7</th>\n",
       "      <th>8</th>\n",
       "      <th>9</th>\n",
       "      <th>10</th>\n",
       "      <th>11</th>\n",
       "      <th>...</th>\n",
       "      <th>248</th>\n",
       "      <th>249</th>\n",
       "      <th>250</th>\n",
       "      <th>251</th>\n",
       "      <th>252</th>\n",
       "      <th>253</th>\n",
       "      <th>254</th>\n",
       "      <th>255</th>\n",
       "      <th>256</th>\n",
       "      <th>257</th>\n",
       "    </tr>\n",
       "  </thead>\n",
       "  <tbody>\n",
       "    <tr>\n",
       "      <th>count</th>\n",
       "      <td>7291.000000</td>\n",
       "      <td>7291.000000</td>\n",
       "      <td>7291.000000</td>\n",
       "      <td>7291.000000</td>\n",
       "      <td>7291.000000</td>\n",
       "      <td>7291.000000</td>\n",
       "      <td>7291.000000</td>\n",
       "      <td>7291.000000</td>\n",
       "      <td>7291.000000</td>\n",
       "      <td>7291.000000</td>\n",
       "      <td>...</td>\n",
       "      <td>7291.000000</td>\n",
       "      <td>7291.000000</td>\n",
       "      <td>7291.000000</td>\n",
       "      <td>7291.000000</td>\n",
       "      <td>7291.000000</td>\n",
       "      <td>7291.000000</td>\n",
       "      <td>7291.000000</td>\n",
       "      <td>7291.000000</td>\n",
       "      <td>7291.000000</td>\n",
       "      <td>7291.000000</td>\n",
       "    </tr>\n",
       "    <tr>\n",
       "      <th>mean</th>\n",
       "      <td>-0.996417</td>\n",
       "      <td>-0.981138</td>\n",
       "      <td>-0.951153</td>\n",
       "      <td>-0.887738</td>\n",
       "      <td>-0.773468</td>\n",
       "      <td>-0.610302</td>\n",
       "      <td>-0.368991</td>\n",
       "      <td>-0.045769</td>\n",
       "      <td>-0.052641</td>\n",
       "      <td>-0.284564</td>\n",
       "      <td>...</td>\n",
       "      <td>-0.198547</td>\n",
       "      <td>0.139823</td>\n",
       "      <td>0.116439</td>\n",
       "      <td>-0.314108</td>\n",
       "      <td>-0.653711</td>\n",
       "      <td>-0.837858</td>\n",
       "      <td>-0.922194</td>\n",
       "      <td>-0.957393</td>\n",
       "      <td>-0.979290</td>\n",
       "      <td>-0.994678</td>\n",
       "    </tr>\n",
       "    <tr>\n",
       "      <th>std</th>\n",
       "      <td>0.051713</td>\n",
       "      <td>0.151202</td>\n",
       "      <td>0.244264</td>\n",
       "      <td>0.360516</td>\n",
       "      <td>0.502659</td>\n",
       "      <td>0.628710</td>\n",
       "      <td>0.716032</td>\n",
       "      <td>0.768304</td>\n",
       "      <td>0.752979</td>\n",
       "      <td>0.746838</td>\n",
       "      <td>...</td>\n",
       "      <td>0.772895</td>\n",
       "      <td>0.752984</td>\n",
       "      <td>0.757336</td>\n",
       "      <td>0.725859</td>\n",
       "      <td>0.582555</td>\n",
       "      <td>0.414646</td>\n",
       "      <td>0.300830</td>\n",
       "      <td>0.228700</td>\n",
       "      <td>0.158998</td>\n",
       "      <td>0.066056</td>\n",
       "    </tr>\n",
       "    <tr>\n",
       "      <th>min</th>\n",
       "      <td>-1.000000</td>\n",
       "      <td>-1.000000</td>\n",
       "      <td>-1.000000</td>\n",
       "      <td>-1.000000</td>\n",
       "      <td>-1.000000</td>\n",
       "      <td>-1.000000</td>\n",
       "      <td>-1.000000</td>\n",
       "      <td>-1.000000</td>\n",
       "      <td>-1.000000</td>\n",
       "      <td>-1.000000</td>\n",
       "      <td>...</td>\n",
       "      <td>-1.000000</td>\n",
       "      <td>-1.000000</td>\n",
       "      <td>-1.000000</td>\n",
       "      <td>-1.000000</td>\n",
       "      <td>-1.000000</td>\n",
       "      <td>-1.000000</td>\n",
       "      <td>-1.000000</td>\n",
       "      <td>-1.000000</td>\n",
       "      <td>-1.000000</td>\n",
       "      <td>-1.000000</td>\n",
       "    </tr>\n",
       "    <tr>\n",
       "      <th>25%</th>\n",
       "      <td>-1.000000</td>\n",
       "      <td>-1.000000</td>\n",
       "      <td>-1.000000</td>\n",
       "      <td>-1.000000</td>\n",
       "      <td>-1.000000</td>\n",
       "      <td>-1.000000</td>\n",
       "      <td>-1.000000</td>\n",
       "      <td>-0.999000</td>\n",
       "      <td>-0.950000</td>\n",
       "      <td>-1.000000</td>\n",
       "      <td>...</td>\n",
       "      <td>-1.000000</td>\n",
       "      <td>-0.661500</td>\n",
       "      <td>-0.738000</td>\n",
       "      <td>-1.000000</td>\n",
       "      <td>-1.000000</td>\n",
       "      <td>-1.000000</td>\n",
       "      <td>-1.000000</td>\n",
       "      <td>-1.000000</td>\n",
       "      <td>-1.000000</td>\n",
       "      <td>-1.000000</td>\n",
       "    </tr>\n",
       "    <tr>\n",
       "      <th>50%</th>\n",
       "      <td>-1.000000</td>\n",
       "      <td>-1.000000</td>\n",
       "      <td>-1.000000</td>\n",
       "      <td>-1.000000</td>\n",
       "      <td>-1.000000</td>\n",
       "      <td>-1.000000</td>\n",
       "      <td>-0.719000</td>\n",
       "      <td>0.061000</td>\n",
       "      <td>0.002000</td>\n",
       "      <td>-0.561000</td>\n",
       "      <td>...</td>\n",
       "      <td>-0.353000</td>\n",
       "      <td>0.368000</td>\n",
       "      <td>0.336000</td>\n",
       "      <td>-0.579000</td>\n",
       "      <td>-1.000000</td>\n",
       "      <td>-1.000000</td>\n",
       "      <td>-1.000000</td>\n",
       "      <td>-1.000000</td>\n",
       "      <td>-1.000000</td>\n",
       "      <td>-1.000000</td>\n",
       "    </tr>\n",
       "    <tr>\n",
       "      <th>75%</th>\n",
       "      <td>-1.000000</td>\n",
       "      <td>-1.000000</td>\n",
       "      <td>-1.000000</td>\n",
       "      <td>-1.000000</td>\n",
       "      <td>-0.962000</td>\n",
       "      <td>-0.391000</td>\n",
       "      <td>0.254500</td>\n",
       "      <td>0.696000</td>\n",
       "      <td>0.674500</td>\n",
       "      <td>0.438000</td>\n",
       "      <td>...</td>\n",
       "      <td>0.554000</td>\n",
       "      <td>0.835000</td>\n",
       "      <td>0.815000</td>\n",
       "      <td>0.346000</td>\n",
       "      <td>-0.504500</td>\n",
       "      <td>-1.000000</td>\n",
       "      <td>-1.000000</td>\n",
       "      <td>-1.000000</td>\n",
       "      <td>-1.000000</td>\n",
       "      <td>-1.000000</td>\n",
       "    </tr>\n",
       "    <tr>\n",
       "      <th>max</th>\n",
       "      <td>0.638000</td>\n",
       "      <td>1.000000</td>\n",
       "      <td>1.000000</td>\n",
       "      <td>1.000000</td>\n",
       "      <td>1.000000</td>\n",
       "      <td>1.000000</td>\n",
       "      <td>1.000000</td>\n",
       "      <td>1.000000</td>\n",
       "      <td>1.000000</td>\n",
       "      <td>1.000000</td>\n",
       "      <td>...</td>\n",
       "      <td>1.000000</td>\n",
       "      <td>1.000000</td>\n",
       "      <td>1.000000</td>\n",
       "      <td>1.000000</td>\n",
       "      <td>1.000000</td>\n",
       "      <td>1.000000</td>\n",
       "      <td>1.000000</td>\n",
       "      <td>1.000000</td>\n",
       "      <td>1.000000</td>\n",
       "      <td>0.592000</td>\n",
       "    </tr>\n",
       "  </tbody>\n",
       "</table>\n",
       "<p>8 rows × 256 columns</p>\n",
       "</div>"
      ],
      "text/plain": [
       "               2            3            4            5            6    \\\n",
       "count  7291.000000  7291.000000  7291.000000  7291.000000  7291.000000   \n",
       "mean     -0.996417    -0.981138    -0.951153    -0.887738    -0.773468   \n",
       "std       0.051713     0.151202     0.244264     0.360516     0.502659   \n",
       "min      -1.000000    -1.000000    -1.000000    -1.000000    -1.000000   \n",
       "25%      -1.000000    -1.000000    -1.000000    -1.000000    -1.000000   \n",
       "50%      -1.000000    -1.000000    -1.000000    -1.000000    -1.000000   \n",
       "75%      -1.000000    -1.000000    -1.000000    -1.000000    -0.962000   \n",
       "max       0.638000     1.000000     1.000000     1.000000     1.000000   \n",
       "\n",
       "               7            8            9            10           11   ...  \\\n",
       "count  7291.000000  7291.000000  7291.000000  7291.000000  7291.000000  ...   \n",
       "mean     -0.610302    -0.368991    -0.045769    -0.052641    -0.284564  ...   \n",
       "std       0.628710     0.716032     0.768304     0.752979     0.746838  ...   \n",
       "min      -1.000000    -1.000000    -1.000000    -1.000000    -1.000000  ...   \n",
       "25%      -1.000000    -1.000000    -0.999000    -0.950000    -1.000000  ...   \n",
       "50%      -1.000000    -0.719000     0.061000     0.002000    -0.561000  ...   \n",
       "75%      -0.391000     0.254500     0.696000     0.674500     0.438000  ...   \n",
       "max       1.000000     1.000000     1.000000     1.000000     1.000000  ...   \n",
       "\n",
       "               248          249          250          251          252  \\\n",
       "count  7291.000000  7291.000000  7291.000000  7291.000000  7291.000000   \n",
       "mean     -0.198547     0.139823     0.116439    -0.314108    -0.653711   \n",
       "std       0.772895     0.752984     0.757336     0.725859     0.582555   \n",
       "min      -1.000000    -1.000000    -1.000000    -1.000000    -1.000000   \n",
       "25%      -1.000000    -0.661500    -0.738000    -1.000000    -1.000000   \n",
       "50%      -0.353000     0.368000     0.336000    -0.579000    -1.000000   \n",
       "75%       0.554000     0.835000     0.815000     0.346000    -0.504500   \n",
       "max       1.000000     1.000000     1.000000     1.000000     1.000000   \n",
       "\n",
       "               253          254          255          256          257  \n",
       "count  7291.000000  7291.000000  7291.000000  7291.000000  7291.000000  \n",
       "mean     -0.837858    -0.922194    -0.957393    -0.979290    -0.994678  \n",
       "std       0.414646     0.300830     0.228700     0.158998     0.066056  \n",
       "min      -1.000000    -1.000000    -1.000000    -1.000000    -1.000000  \n",
       "25%      -1.000000    -1.000000    -1.000000    -1.000000    -1.000000  \n",
       "50%      -1.000000    -1.000000    -1.000000    -1.000000    -1.000000  \n",
       "75%      -1.000000    -1.000000    -1.000000    -1.000000    -1.000000  \n",
       "max       1.000000     1.000000     1.000000     1.000000     0.592000  \n",
       "\n",
       "[8 rows x 256 columns]"
      ]
     },
     "execution_count": 5,
     "metadata": {},
     "output_type": "execute_result"
    }
   ],
   "source": [
    "train_data.iloc[:, 2:].describe() #總結資料集分佈的集中趨勢、離散度和形狀（不包括 NaN值）"
   ]
  },
  {
   "cell_type": "code",
   "execution_count": 6,
   "metadata": {},
   "outputs": [
    {
     "name": "stdout",
     "output_type": "stream",
     "text": [
      "Number of training samples: 7291\n",
      "Number of testing samples: 2007\n"
     ]
    }
   ],
   "source": [
    "print(f\"Number of training samples: {train_data.shape[0]}\")\n",
    "print(f\"Number of testing samples: {test_data.shape[0]}\")"
   ]
  },
  {
   "cell_type": "code",
   "execution_count": 7,
   "metadata": {},
   "outputs": [
    {
     "data": {
      "text/plain": [
       "1\n",
       "0    1194\n",
       "1    1005\n",
       "2     731\n",
       "3     658\n",
       "4     652\n",
       "5     556\n",
       "6     664\n",
       "7     645\n",
       "8     542\n",
       "9     644\n",
       "Name: count, dtype: int64"
      ]
     },
     "execution_count": 7,
     "metadata": {},
     "output_type": "execute_result"
    }
   ],
   "source": [
    "train_data.iloc[:, 1].value_counts().sort_index() #計算train_data標籤數量"
   ]
  },
  {
   "cell_type": "markdown",
   "metadata": {},
   "source": [
    "## Show the number of images in each digit for the training dataset (2 pts)"
   ]
  },
  {
   "cell_type": "code",
   "execution_count": 8,
   "metadata": {},
   "outputs": [
    {
     "data": {
      "application/vnd.plotly.v1+json": {
       "config": {
        "plotlyServerURL": "https://plot.ly"
       },
       "data": [
        {
         "alignmentgroup": "True",
         "hovertemplate": "labels=%{x}<br>number_of_samples=%{y}<extra></extra>",
         "legendgroup": "",
         "marker": {
          "color": "#636efa",
          "pattern": {
           "shape": ""
          }
         },
         "name": "",
         "offsetgroup": "",
         "orientation": "v",
         "showlegend": false,
         "textposition": "auto",
         "type": "bar",
         "x": [
          "0",
          "1",
          "2",
          "3",
          "4",
          "5",
          "6",
          "7",
          "8",
          "9"
         ],
         "xaxis": "x",
         "y": [
          1194,
          1005,
          731,
          658,
          652,
          556,
          664,
          645,
          542,
          644
         ],
         "yaxis": "y"
        }
       ],
       "layout": {
        "barmode": "relative",
        "legend": {
         "tracegroupgap": 0
        },
        "margin": {
         "t": 60
        },
        "plot_bgcolor": "white",
        "template": {
         "data": {
          "bar": [
           {
            "error_x": {
             "color": "#2a3f5f"
            },
            "error_y": {
             "color": "#2a3f5f"
            },
            "marker": {
             "line": {
              "color": "#E5ECF6",
              "width": 0.5
             },
             "pattern": {
              "fillmode": "overlay",
              "size": 10,
              "solidity": 0.2
             }
            },
            "type": "bar"
           }
          ],
          "barpolar": [
           {
            "marker": {
             "line": {
              "color": "#E5ECF6",
              "width": 0.5
             },
             "pattern": {
              "fillmode": "overlay",
              "size": 10,
              "solidity": 0.2
             }
            },
            "type": "barpolar"
           }
          ],
          "carpet": [
           {
            "aaxis": {
             "endlinecolor": "#2a3f5f",
             "gridcolor": "white",
             "linecolor": "white",
             "minorgridcolor": "white",
             "startlinecolor": "#2a3f5f"
            },
            "baxis": {
             "endlinecolor": "#2a3f5f",
             "gridcolor": "white",
             "linecolor": "white",
             "minorgridcolor": "white",
             "startlinecolor": "#2a3f5f"
            },
            "type": "carpet"
           }
          ],
          "choropleth": [
           {
            "colorbar": {
             "outlinewidth": 0,
             "ticks": ""
            },
            "type": "choropleth"
           }
          ],
          "contour": [
           {
            "colorbar": {
             "outlinewidth": 0,
             "ticks": ""
            },
            "colorscale": [
             [
              0,
              "#0d0887"
             ],
             [
              0.1111111111111111,
              "#46039f"
             ],
             [
              0.2222222222222222,
              "#7201a8"
             ],
             [
              0.3333333333333333,
              "#9c179e"
             ],
             [
              0.4444444444444444,
              "#bd3786"
             ],
             [
              0.5555555555555556,
              "#d8576b"
             ],
             [
              0.6666666666666666,
              "#ed7953"
             ],
             [
              0.7777777777777778,
              "#fb9f3a"
             ],
             [
              0.8888888888888888,
              "#fdca26"
             ],
             [
              1,
              "#f0f921"
             ]
            ],
            "type": "contour"
           }
          ],
          "contourcarpet": [
           {
            "colorbar": {
             "outlinewidth": 0,
             "ticks": ""
            },
            "type": "contourcarpet"
           }
          ],
          "heatmap": [
           {
            "colorbar": {
             "outlinewidth": 0,
             "ticks": ""
            },
            "colorscale": [
             [
              0,
              "#0d0887"
             ],
             [
              0.1111111111111111,
              "#46039f"
             ],
             [
              0.2222222222222222,
              "#7201a8"
             ],
             [
              0.3333333333333333,
              "#9c179e"
             ],
             [
              0.4444444444444444,
              "#bd3786"
             ],
             [
              0.5555555555555556,
              "#d8576b"
             ],
             [
              0.6666666666666666,
              "#ed7953"
             ],
             [
              0.7777777777777778,
              "#fb9f3a"
             ],
             [
              0.8888888888888888,
              "#fdca26"
             ],
             [
              1,
              "#f0f921"
             ]
            ],
            "type": "heatmap"
           }
          ],
          "heatmapgl": [
           {
            "colorbar": {
             "outlinewidth": 0,
             "ticks": ""
            },
            "colorscale": [
             [
              0,
              "#0d0887"
             ],
             [
              0.1111111111111111,
              "#46039f"
             ],
             [
              0.2222222222222222,
              "#7201a8"
             ],
             [
              0.3333333333333333,
              "#9c179e"
             ],
             [
              0.4444444444444444,
              "#bd3786"
             ],
             [
              0.5555555555555556,
              "#d8576b"
             ],
             [
              0.6666666666666666,
              "#ed7953"
             ],
             [
              0.7777777777777778,
              "#fb9f3a"
             ],
             [
              0.8888888888888888,
              "#fdca26"
             ],
             [
              1,
              "#f0f921"
             ]
            ],
            "type": "heatmapgl"
           }
          ],
          "histogram": [
           {
            "marker": {
             "pattern": {
              "fillmode": "overlay",
              "size": 10,
              "solidity": 0.2
             }
            },
            "type": "histogram"
           }
          ],
          "histogram2d": [
           {
            "colorbar": {
             "outlinewidth": 0,
             "ticks": ""
            },
            "colorscale": [
             [
              0,
              "#0d0887"
             ],
             [
              0.1111111111111111,
              "#46039f"
             ],
             [
              0.2222222222222222,
              "#7201a8"
             ],
             [
              0.3333333333333333,
              "#9c179e"
             ],
             [
              0.4444444444444444,
              "#bd3786"
             ],
             [
              0.5555555555555556,
              "#d8576b"
             ],
             [
              0.6666666666666666,
              "#ed7953"
             ],
             [
              0.7777777777777778,
              "#fb9f3a"
             ],
             [
              0.8888888888888888,
              "#fdca26"
             ],
             [
              1,
              "#f0f921"
             ]
            ],
            "type": "histogram2d"
           }
          ],
          "histogram2dcontour": [
           {
            "colorbar": {
             "outlinewidth": 0,
             "ticks": ""
            },
            "colorscale": [
             [
              0,
              "#0d0887"
             ],
             [
              0.1111111111111111,
              "#46039f"
             ],
             [
              0.2222222222222222,
              "#7201a8"
             ],
             [
              0.3333333333333333,
              "#9c179e"
             ],
             [
              0.4444444444444444,
              "#bd3786"
             ],
             [
              0.5555555555555556,
              "#d8576b"
             ],
             [
              0.6666666666666666,
              "#ed7953"
             ],
             [
              0.7777777777777778,
              "#fb9f3a"
             ],
             [
              0.8888888888888888,
              "#fdca26"
             ],
             [
              1,
              "#f0f921"
             ]
            ],
            "type": "histogram2dcontour"
           }
          ],
          "mesh3d": [
           {
            "colorbar": {
             "outlinewidth": 0,
             "ticks": ""
            },
            "type": "mesh3d"
           }
          ],
          "parcoords": [
           {
            "line": {
             "colorbar": {
              "outlinewidth": 0,
              "ticks": ""
             }
            },
            "type": "parcoords"
           }
          ],
          "pie": [
           {
            "automargin": true,
            "type": "pie"
           }
          ],
          "scatter": [
           {
            "fillpattern": {
             "fillmode": "overlay",
             "size": 10,
             "solidity": 0.2
            },
            "type": "scatter"
           }
          ],
          "scatter3d": [
           {
            "line": {
             "colorbar": {
              "outlinewidth": 0,
              "ticks": ""
             }
            },
            "marker": {
             "colorbar": {
              "outlinewidth": 0,
              "ticks": ""
             }
            },
            "type": "scatter3d"
           }
          ],
          "scattercarpet": [
           {
            "marker": {
             "colorbar": {
              "outlinewidth": 0,
              "ticks": ""
             }
            },
            "type": "scattercarpet"
           }
          ],
          "scattergeo": [
           {
            "marker": {
             "colorbar": {
              "outlinewidth": 0,
              "ticks": ""
             }
            },
            "type": "scattergeo"
           }
          ],
          "scattergl": [
           {
            "marker": {
             "colorbar": {
              "outlinewidth": 0,
              "ticks": ""
             }
            },
            "type": "scattergl"
           }
          ],
          "scattermapbox": [
           {
            "marker": {
             "colorbar": {
              "outlinewidth": 0,
              "ticks": ""
             }
            },
            "type": "scattermapbox"
           }
          ],
          "scatterpolar": [
           {
            "marker": {
             "colorbar": {
              "outlinewidth": 0,
              "ticks": ""
             }
            },
            "type": "scatterpolar"
           }
          ],
          "scatterpolargl": [
           {
            "marker": {
             "colorbar": {
              "outlinewidth": 0,
              "ticks": ""
             }
            },
            "type": "scatterpolargl"
           }
          ],
          "scatterternary": [
           {
            "marker": {
             "colorbar": {
              "outlinewidth": 0,
              "ticks": ""
             }
            },
            "type": "scatterternary"
           }
          ],
          "surface": [
           {
            "colorbar": {
             "outlinewidth": 0,
             "ticks": ""
            },
            "colorscale": [
             [
              0,
              "#0d0887"
             ],
             [
              0.1111111111111111,
              "#46039f"
             ],
             [
              0.2222222222222222,
              "#7201a8"
             ],
             [
              0.3333333333333333,
              "#9c179e"
             ],
             [
              0.4444444444444444,
              "#bd3786"
             ],
             [
              0.5555555555555556,
              "#d8576b"
             ],
             [
              0.6666666666666666,
              "#ed7953"
             ],
             [
              0.7777777777777778,
              "#fb9f3a"
             ],
             [
              0.8888888888888888,
              "#fdca26"
             ],
             [
              1,
              "#f0f921"
             ]
            ],
            "type": "surface"
           }
          ],
          "table": [
           {
            "cells": {
             "fill": {
              "color": "#EBF0F8"
             },
             "line": {
              "color": "white"
             }
            },
            "header": {
             "fill": {
              "color": "#C8D4E3"
             },
             "line": {
              "color": "white"
             }
            },
            "type": "table"
           }
          ]
         },
         "layout": {
          "annotationdefaults": {
           "arrowcolor": "#2a3f5f",
           "arrowhead": 0,
           "arrowwidth": 1
          },
          "autotypenumbers": "strict",
          "coloraxis": {
           "colorbar": {
            "outlinewidth": 0,
            "ticks": ""
           }
          },
          "colorscale": {
           "diverging": [
            [
             0,
             "#8e0152"
            ],
            [
             0.1,
             "#c51b7d"
            ],
            [
             0.2,
             "#de77ae"
            ],
            [
             0.3,
             "#f1b6da"
            ],
            [
             0.4,
             "#fde0ef"
            ],
            [
             0.5,
             "#f7f7f7"
            ],
            [
             0.6,
             "#e6f5d0"
            ],
            [
             0.7,
             "#b8e186"
            ],
            [
             0.8,
             "#7fbc41"
            ],
            [
             0.9,
             "#4d9221"
            ],
            [
             1,
             "#276419"
            ]
           ],
           "sequential": [
            [
             0,
             "#0d0887"
            ],
            [
             0.1111111111111111,
             "#46039f"
            ],
            [
             0.2222222222222222,
             "#7201a8"
            ],
            [
             0.3333333333333333,
             "#9c179e"
            ],
            [
             0.4444444444444444,
             "#bd3786"
            ],
            [
             0.5555555555555556,
             "#d8576b"
            ],
            [
             0.6666666666666666,
             "#ed7953"
            ],
            [
             0.7777777777777778,
             "#fb9f3a"
            ],
            [
             0.8888888888888888,
             "#fdca26"
            ],
            [
             1,
             "#f0f921"
            ]
           ],
           "sequentialminus": [
            [
             0,
             "#0d0887"
            ],
            [
             0.1111111111111111,
             "#46039f"
            ],
            [
             0.2222222222222222,
             "#7201a8"
            ],
            [
             0.3333333333333333,
             "#9c179e"
            ],
            [
             0.4444444444444444,
             "#bd3786"
            ],
            [
             0.5555555555555556,
             "#d8576b"
            ],
            [
             0.6666666666666666,
             "#ed7953"
            ],
            [
             0.7777777777777778,
             "#fb9f3a"
            ],
            [
             0.8888888888888888,
             "#fdca26"
            ],
            [
             1,
             "#f0f921"
            ]
           ]
          },
          "colorway": [
           "#636efa",
           "#EF553B",
           "#00cc96",
           "#ab63fa",
           "#FFA15A",
           "#19d3f3",
           "#FF6692",
           "#B6E880",
           "#FF97FF",
           "#FECB52"
          ],
          "font": {
           "color": "#2a3f5f"
          },
          "geo": {
           "bgcolor": "white",
           "lakecolor": "white",
           "landcolor": "#E5ECF6",
           "showlakes": true,
           "showland": true,
           "subunitcolor": "white"
          },
          "hoverlabel": {
           "align": "left"
          },
          "hovermode": "closest",
          "mapbox": {
           "style": "light"
          },
          "paper_bgcolor": "white",
          "plot_bgcolor": "#E5ECF6",
          "polar": {
           "angularaxis": {
            "gridcolor": "white",
            "linecolor": "white",
            "ticks": ""
           },
           "bgcolor": "#E5ECF6",
           "radialaxis": {
            "gridcolor": "white",
            "linecolor": "white",
            "ticks": ""
           }
          },
          "scene": {
           "xaxis": {
            "backgroundcolor": "#E5ECF6",
            "gridcolor": "white",
            "gridwidth": 2,
            "linecolor": "white",
            "showbackground": true,
            "ticks": "",
            "zerolinecolor": "white"
           },
           "yaxis": {
            "backgroundcolor": "#E5ECF6",
            "gridcolor": "white",
            "gridwidth": 2,
            "linecolor": "white",
            "showbackground": true,
            "ticks": "",
            "zerolinecolor": "white"
           },
           "zaxis": {
            "backgroundcolor": "#E5ECF6",
            "gridcolor": "white",
            "gridwidth": 2,
            "linecolor": "white",
            "showbackground": true,
            "ticks": "",
            "zerolinecolor": "white"
           }
          },
          "shapedefaults": {
           "line": {
            "color": "#2a3f5f"
           }
          },
          "ternary": {
           "aaxis": {
            "gridcolor": "white",
            "linecolor": "white",
            "ticks": ""
           },
           "baxis": {
            "gridcolor": "white",
            "linecolor": "white",
            "ticks": ""
           },
           "bgcolor": "#E5ECF6",
           "caxis": {
            "gridcolor": "white",
            "linecolor": "white",
            "ticks": ""
           }
          },
          "title": {
           "x": 0.05
          },
          "xaxis": {
           "automargin": true,
           "gridcolor": "white",
           "linecolor": "white",
           "ticks": "",
           "title": {
            "standoff": 15
           },
           "zerolinecolor": "white",
           "zerolinewidth": 2
          },
          "yaxis": {
           "automargin": true,
           "gridcolor": "white",
           "linecolor": "white",
           "ticks": "",
           "title": {
            "standoff": 15
           },
           "zerolinecolor": "white",
           "zerolinewidth": 2
          }
         }
        },
        "title": {
         "font": {
          "size": 20
         },
         "text": "Number of Samples Per Labels",
         "x": 0.5,
         "y": 0.975
        },
        "xaxis": {
         "anchor": "y",
         "domain": [
          0,
          1
         ],
         "gridcolor": "lightgray",
         "showgrid": true,
         "title": {
          "text": "labels"
         },
         "zeroline": false
        },
        "yaxis": {
         "anchor": "x",
         "domain": [
          0,
          1
         ],
         "gridcolor": "lightgray",
         "showgrid": true,
         "title": {
          "text": "number_of_samples"
         },
         "zeroline": false
        }
       }
      }
     },
     "metadata": {},
     "output_type": "display_data"
    }
   ],
   "source": [
    "train_label_distribution = train_data.iloc[:, 1].value_counts().sort_index()\n",
    "train_label_distribution = pd.DataFrame(\n",
    "    {\n",
    "        \"labels\": train_label_distribution.index.astype(str), #將int64改成str\n",
    "        \"number_of_samples\": train_label_distribution.values\n",
    "    }\n",
    ")\n",
    "\n",
    "# TODO_2: 試著畫出每一個類別的樣本數量，填寫 yaxis=\n",
    "\n",
    "#以下兩個是視覺化參數設定\n",
    "fig = px.bar(\n",
    "    train_label_distribution, x=\"labels\", y=\"number_of_samples\",\n",
    "    labels=dict(y=\"number of samples\"),\n",
    ")\n",
    "# update_layout 用來更新圖表的佈局配置，調整圖表的外觀和樣式\n",
    "fig.update_layout(\n",
    "    plot_bgcolor='white',\n",
    "    xaxis=dict(showgrid=True, gridcolor='lightgray', zeroline=False),  # Show x-axis grid，zeroline=False為不顯示x=0那條線\n",
    "    yaxis=dict(showgrid=True, gridcolor='lightgray', zeroline=False),  # Show y-axis grid，zeroline=False為不顯示y=0那條線\n",
    "    title=dict(text=\"Number of Samples Per Labels\", x=0.5, y=0.975, font=dict(size=20))\n",
    ")\n",
    "fig.show()"
   ]
  },
  {
   "cell_type": "markdown",
   "metadata": {},
   "source": [
    "## Pytorch Dataset\n",
    "\n",
    "pytorch dataset 必須為自定義物件，且須繼承於 `torch.utils.data.Dataset`。我們必須實現下列方法\n",
    "\n",
    "- `__init__:` Initialization Setting\n",
    "- `__len__:` return the length of the data\n",
    "- `__getitem__:` return the data according to the index draw from sampler"
   ]
  },
  {
   "cell_type": "markdown",
   "metadata": {},
   "source": [
    "Pandas 的 DataFrame 這種資料結構適合處理表格，但不適合用在DL當中，因為他不支援 GPU 運算跟自動微分的功能\n",
    "\n",
    "所以，我們要轉成 torch.tensor ，專門為DL所設計的框架，支援上述所提及的功能。\n",
    "\n",
    "但 Pandas 和 PyTorch 會有兼容性問題，有些複雜的資料結構會出意外，在這種情況下，我們會先轉成NumPy來確保相容。"
   ]
  },
  {
   "cell_type": "code",
   "execution_count": 9,
   "metadata": {},
   "outputs": [],
   "source": [
    "class HandwrittenDigits(torch.utils.data.Dataset):\n",
    "    def __init__(self, df, mode = None, transforms=None):\n",
    "        self.df = df\n",
    "        self.transforms = transforms #之後的作業會用到\n",
    "        self.mode = mode\n",
    "        \n",
    "    def __len__(self):\n",
    "        return len(self.df)\n",
    "        \n",
    "    def __getitem__(self, x):\n",
    "        if self.mode == \"train\":\n",
    "            ID = self.df.iloc[x, 0]                                 #抓取第 x 筆資料，第 0 欄為 image_id。\n",
    "            label = self.df.iloc[x, 1]                              #抓取第 x 筆資料，第 1 欄為 image_label。\n",
    "            image = self.df.iloc[x, 2:].to_numpy(dtype=np.float32)  #抓取第 x 筆資料，第 2 欄為 image 的 pixel。\n",
    "            label, image = torch.tensor(label), torch.tensor(image)\n",
    "            \n",
    "            if self.transforms: #這個只會用在 train_data 身上，所以 valid_data 不用。\n",
    "                transformed = self.transforms(image=image)\n",
    "                image = transformed['image']\n",
    "                \n",
    "            return ID, label, image\n",
    "        \n",
    "        # TODO_3: 寫出當 mode = valid、test 的 getitem()\n",
    "        elif self.mode == \"valid\":\n",
    "            ID = self.df.iloc[x, 0] \n",
    "            label = self.df.iloc[x, 1]  \n",
    "            image = self.df.iloc[x, 2:].to_numpy(dtype=np.float32)\n",
    "            label, image = torch.tensor(label), torch.tensor(image)\n",
    "            \n",
    "            return ID, label, image\n",
    "        \n",
    "        elif self.mode == \"test\":\n",
    "            ID = self.df.iloc[x, 0] \n",
    "            image = self.df.iloc[x, 1:].to_numpy(dtype=np.float32)\n",
    "            image = torch.tensor(image)\n",
    "            \n",
    "            return ID, image  # 因為 test 沒 label"
   ]
  },
  {
   "cell_type": "code",
   "execution_count": 10,
   "metadata": {},
   "outputs": [
    {
     "data": {
      "text/plain": [
       "('A1',\n",
       " tensor(6),\n",
       " tensor([-1.0000, -1.0000, -1.0000, -1.0000, -1.0000, -1.0000, -1.0000, -0.6310,\n",
       "          0.8620, -0.1670, -1.0000, -1.0000, -1.0000, -1.0000, -1.0000, -1.0000,\n",
       "         -1.0000, -1.0000, -1.0000, -1.0000, -1.0000, -1.0000, -0.9920,  0.2970,\n",
       "          1.0000,  0.3070, -1.0000, -1.0000, -1.0000, -1.0000, -1.0000, -1.0000,\n",
       "         -1.0000, -1.0000, -1.0000, -1.0000, -1.0000, -1.0000, -0.4100,  1.0000,\n",
       "          0.9860, -0.5650, -1.0000, -1.0000, -1.0000, -1.0000, -1.0000, -1.0000,\n",
       "         -1.0000, -1.0000, -1.0000, -1.0000, -1.0000, -0.6830,  0.8250,  1.0000,\n",
       "          0.5620, -1.0000, -1.0000, -1.0000, -1.0000, -1.0000, -1.0000, -1.0000,\n",
       "         -1.0000, -1.0000, -1.0000, -1.0000, -0.9380,  0.5400,  1.0000,  0.7780,\n",
       "         -0.7150, -1.0000, -1.0000, -1.0000, -1.0000, -1.0000, -1.0000, -1.0000,\n",
       "         -1.0000, -1.0000, -1.0000, -1.0000,  0.1000,  1.0000,  0.9220, -0.4390,\n",
       "         -1.0000, -1.0000, -1.0000, -1.0000, -1.0000, -1.0000, -1.0000, -1.0000,\n",
       "         -1.0000, -1.0000, -1.0000, -0.2570,  0.9500,  1.0000, -0.1620, -1.0000,\n",
       "         -1.0000, -1.0000, -0.9870, -0.7140, -0.8320, -1.0000, -1.0000, -1.0000,\n",
       "         -1.0000, -1.0000, -0.7970,  0.9090,  1.0000,  0.3000, -0.9610, -1.0000,\n",
       "         -1.0000, -0.5500,  0.4850,  0.9960,  0.8670,  0.0920, -1.0000, -1.0000,\n",
       "         -1.0000, -1.0000,  0.2780,  1.0000,  0.8770, -0.8240, -1.0000, -0.9050,\n",
       "          0.1450,  0.9770,  1.0000,  1.0000,  1.0000,  0.9900, -0.7450, -1.0000,\n",
       "         -1.0000, -0.9500,  0.8470,  1.0000,  0.3270, -1.0000, -1.0000,  0.3550,\n",
       "          1.0000,  0.6550, -0.1090, -0.1850,  1.0000,  0.9880, -0.7230, -1.0000,\n",
       "         -1.0000, -0.6300,  1.0000,  1.0000,  0.0680, -0.9250,  0.1130,  0.9600,\n",
       "          0.3080, -0.8840, -1.0000, -0.0750,  1.0000,  0.6410, -0.9950, -1.0000,\n",
       "         -1.0000, -0.6770,  1.0000,  1.0000,  0.7530,  0.3410,  1.0000,  0.7070,\n",
       "         -0.9420, -1.0000, -1.0000,  0.5450,  1.0000,  0.0270, -1.0000, -1.0000,\n",
       "         -1.0000, -0.9030,  0.7920,  1.0000,  1.0000,  1.0000,  1.0000,  0.5360,\n",
       "          0.1840,  0.8120,  0.8370,  0.9780,  0.8640, -0.6300, -1.0000, -1.0000,\n",
       "         -1.0000, -1.0000, -0.4520,  0.8280,  1.0000,  1.0000,  1.0000,  1.0000,\n",
       "          1.0000,  1.0000,  1.0000,  1.0000,  0.1350, -1.0000, -1.0000, -1.0000,\n",
       "         -1.0000, -1.0000, -1.0000, -0.4830,  0.8130,  1.0000,  1.0000,  1.0000,\n",
       "          1.0000,  1.0000,  1.0000,  0.2190, -0.9430, -1.0000, -1.0000, -1.0000,\n",
       "         -1.0000, -1.0000, -1.0000, -1.0000, -0.9740, -0.4290,  0.3040,  0.8230,\n",
       "          1.0000,  0.4820, -0.4740, -0.9910, -1.0000, -1.0000, -1.0000, -1.0000]))"
      ]
     },
     "execution_count": 10,
     "metadata": {},
     "output_type": "execute_result"
    }
   ],
   "source": [
    "ds = HandwrittenDigits(train_data, mode = \"train\")\n",
    "ds[0]"
   ]
  },
  {
   "cell_type": "markdown",
   "metadata": {},
   "source": [
    "## Pytorch DataLoader\n",
    "\n",
    "怎麼讓neural network 批次(batch)讀取影像資料呢? 我們可以透過 pytorch dataloader 來達成，pytorch dataloader 包含三個部分"
   ]
  },
  {
   "cell_type": "markdown",
   "metadata": {},
   "source": [
    "- sampler: 抽樣方式，主要是生出一組index。\n",
    "\n",
    "常見的抽樣方式包括：\n",
    "\n",
    "SequentialSampler: 順序抽樣，按照順序抽取資料。\n",
    "\n",
    "RandomSampler: 隨機抽樣，隨機抽取資料。\n",
    "\n",
    "SubsetRandomSampler: 從一個subset隨機抽樣。"
   ]
  },
  {
   "cell_type": "markdown",
   "metadata": {},
   "source": [
    "- dataset: 對影像的處理方法，根據這組index提取相對應的資料。\n",
    "\n",
    "我們有自定義HandwrittenDigits，__getitem()__定義了如何讀取 image 與 label 。"
   ]
  },
  {
   "cell_type": "markdown",
   "metadata": {},
   "source": [
    "- collate_fn: 對一個batch進行整合。\n",
    "\n",
    "Batch 是指在一次迭代（iteration）中， model 處理的資料樣本的數量。\n",
    "\n",
    "例如，1000個樣本，我可以設定每次迭代中使用 batch=32 (每次訓練都用32個樣本)。\n",
    "\n",
    "使用 Batch 可以在訓練過程中讓 gradient descent 更穩定、更平滑的更新，對於大型資料集可以避免一次性加載所有數據導致內存不足。"
   ]
  },
  {
   "cell_type": "markdown",
   "metadata": {},
   "source": [
    "具體流程如下:\n",
    "sampler --> indices --> dataset --> collate_fn\n",
    "\n",
    "視覺化詳見 [https://twitter.com/_ScottCondron/status/1363494433715552259](https://twitter.com/_ScottCondron/status/1363494433715552259)"
   ]
  },
  {
   "cell_type": "code",
   "execution_count": 11,
   "metadata": {},
   "outputs": [],
   "source": [
    "# train_data = pd.read_csv(os.path.join(config.root, 'zip.train.csv'), header=None)\n",
    "train_data = pd.read_csv('zip.train.csv', header=None)\n",
    "train_dataset = HandwrittenDigits(train_data, mode = \"train\")\n",
    "train_loader = torch.utils.data.DataLoader(train_dataset, batch_size=config.batch_size, shuffle=True) #shuffle=True代表使用 RandomSampler。"
   ]
  },
  {
   "cell_type": "markdown",
   "metadata": {},
   "source": [
    "## For each digit, plot 10 randomly selected images from your training dataset. (4 pts)"
   ]
  },
  {
   "cell_type": "code",
   "execution_count": 12,
   "metadata": {},
   "outputs": [
    {
     "data": {
      "image/png": "[encoded data removed]",
      "text/plain": [
       "<Figure size 1000x1000 with 100 Axes>"
      ]
     },
     "metadata": {},
     "output_type": "display_data"
    }
   ],
   "source": [
    "# TODO_4: 將所看到的空格都填滿，總共要填三個部分: range()、reshape(, )、axes[ , ]\n",
    "\n",
    "# 建立字典用來儲存 0~9 的圖像\n",
    "digit_images = {i: [] for i in range(10)} # range()裡面要填數字\n",
    "\n",
    "# 從train_dataset抓取 label 跟 image，並將 image 重塑成 16x16，放進字典中。\n",
    "for ID, label, image in train_dataset:\n",
    "    digit_images[label.item()].append(image.numpy().reshape(16, 16)) # reshape( , )裡面要填兩個數字\n",
    "\n",
    "# 繪製每個數字的隨機10張圖片\n",
    "fig, axes = plt.subplots(10, 10, figsize=(10, 10))\n",
    "fig.suptitle('10 Randomly Selected Images for Each Digit', fontsize=16)\n",
    "\n",
    "for digit in range(10):\n",
    "    # 隨機選擇10張圖片\n",
    "    selected_images = random.sample(digit_images[digit], 10)\n",
    "    for i, img in enumerate(selected_images):\n",
    "        ax = axes[digit, i]                                   #axes 是一個 10x10 的 matplotlib 子圖， 其[ , ]要填兩個變數來鎖定子圖位子\n",
    "        ax.imshow(img, cmap='gray')\n",
    "        ax.axis('off')\n",
    "\n",
    "plt.tight_layout() #自動調整圖片間距，避免圖像太過緊密。\n",
    "plt.show()"
   ]
  },
  {
   "cell_type": "markdown",
   "metadata": {},
   "source": [
    "# Pytorch Module\n",
    "\n",
    "Pytorch neural network 同樣也是需自定義的物件，我們必須實現兩種方法\n",
    "\n",
    "- `__init__:` model 的初始化函數，用於定義模型的結構\n",
    "- `forward:` 定義了 model 向前傳播的過程\n",
    "\n",
    "這裡示範 Net-2: Two hidden layers with 64 and 16 nodes, respectively"
   ]
  },
  {
   "cell_type": "code",
   "execution_count": 13,
   "metadata": {},
   "outputs": [],
   "source": [
    "# TODO_5: 建立自己喜歡的 model 架構\n",
    "# 這裡不需要有 softmax，因為之後的 nn.CrossEntropyLoss()隱含了一個 softmax ，如果在這裡加 softmax，你會套用到兩次。\n",
    "class SimpleNN(nn.Module):\n",
    "    def __init__(self, input_dim, output_dim):\n",
    "        super(SimpleNN, self).__init__()\n",
    "        self.fc1 = nn.Linear(input_dim, 256)  # Increase units to 256 for better feature extraction\n",
    "        self.bn1 = nn.BatchNorm1d(256)  # Batch normalization after first layer\n",
    "        self.relu = nn.ReLU()  # ReLU activation\n",
    "        \n",
    "        self.fc2 = nn.Linear(256, 128)  # Second fully connected layer with 128 units\n",
    "        self.bn2 = nn.BatchNorm1d(128)  # Batch normalization after second layer\n",
    "        \n",
    "        self.fc3 = nn.Linear(128, 64)  # Third layer with 64 units\n",
    "        self.bn3 = nn.BatchNorm1d(64)  # Batch normalization\n",
    "        \n",
    "        self.dropout = nn.Dropout(0.5)  # Dropout to reduce overfitting\n",
    "        \n",
    "        self.final_fc = nn.Linear(64, output_dim)  # Final output layer\n",
    "        \n",
    "    def forward(self, x):\n",
    "        x = self.fc1(x)\n",
    "        x = self.bn1(x)  # Apply batch normalization\n",
    "        x = self.relu(x)\n",
    "        \n",
    "        x = self.fc2(x)\n",
    "        x = self.bn2(x)  # Batch normalization\n",
    "        x = self.relu(x)\n",
    "        \n",
    "        x = self.fc3(x)\n",
    "        x = self.bn3(x)  # Batch normalization\n",
    "        x = self.relu(x)\n",
    "        \n",
    "        x = self.dropout(x)  # Apply dropout\n",
    "        \n",
    "        x = self.final_fc(x)  # Output layer (no softmax because CrossEntropyLoss will handle it)\n",
    "        return x"
   ]
  },
  {
   "cell_type": "code",
   "execution_count": 14,
   "metadata": {},
   "outputs": [
    {
     "data": {
      "text/plain": [
       "SimpleNN(\n",
       "  (fc1): Linear(in_features=256, out_features=256, bias=True)\n",
       "  (bn1): BatchNorm1d(256, eps=1e-05, momentum=0.1, affine=True, track_running_stats=True)\n",
       "  (relu): ReLU()\n",
       "  (fc2): Linear(in_features=256, out_features=128, bias=True)\n",
       "  (bn2): BatchNorm1d(128, eps=1e-05, momentum=0.1, affine=True, track_running_stats=True)\n",
       "  (fc3): Linear(in_features=128, out_features=64, bias=True)\n",
       "  (bn3): BatchNorm1d(64, eps=1e-05, momentum=0.1, affine=True, track_running_stats=True)\n",
       "  (dropout): Dropout(p=0.5, inplace=False)\n",
       "  (final_fc): Linear(in_features=64, out_features=10, bias=True)\n",
       ")"
      ]
     },
     "execution_count": 14,
     "metadata": {},
     "output_type": "execute_result"
    }
   ],
   "source": [
    "input_dim =  256 # image 的 pixel 有 256\n",
    "output_dim = 10  # 我們想要分類 0~9 其中一個類別\n",
    "\n",
    "model = SimpleNN(input_dim, output_dim)\n",
    "model"
   ]
  },
  {
   "cell_type": "code",
   "execution_count": 15,
   "metadata": {},
   "outputs": [
    {
     "data": {
      "text/plain": [
       "108490"
      ]
     },
     "execution_count": 15,
     "metadata": {},
     "output_type": "execute_result"
    }
   ],
   "source": [
    "myparameter = sum(p.numel() for p in model.parameters() if p.requires_grad)\n",
    "myparameter"
   ]
  },
  {
   "cell_type": "markdown",
   "metadata": {},
   "source": [
    "## Evaluator"
   ]
  },
  {
   "cell_type": "code",
   "execution_count": 16,
   "metadata": {},
   "outputs": [],
   "source": [
    "# TODO_6: 嘗試去計算 misclassification_rate \n",
    "def evaluator(preds, gts):\n",
    "    preds = preds.cpu().numpy() if isinstance(preds, torch.Tensor) else preds # 將 Tensor 轉成 numpy ，如果是 Tensor 的話\n",
    "    gts = gts.cpu().numpy() if isinstance(gts, torch.Tensor) else gts\n",
    "    \n",
    "    acc = accuracy_score(preds, gts)             # 計算正確率\n",
    "    f1 = f1_score(preds, gts, average=\"macro\")   # F1 score，介在 0~1 ，對 model 分類性能的綜合評價，越高越好\n",
    "    misclassification_rate = 1-acc                    # 計算分錯率\n",
    "    \n",
    "    return acc, f1, misclassification_rate"
   ]
  },
  {
   "cell_type": "markdown",
   "metadata": {},
   "source": [
    "# Training"
   ]
  },
  {
   "cell_type": "code",
   "execution_count": 17,
   "metadata": {},
   "outputs": [],
   "source": [
    "def train_one_epoch(model, train_loader, optimizer, scheduler, criterion, device):\n",
    "    model.train()                                            # PyTorch 中一個用來告知 model 進行訓練的狀態設置，會啟用一些用在訓練的層（如 dropout 和 batch normalization）\n",
    "    train_loss = .0                                          # 累積一個 epoch 的總損失\n",
    "    predictions, ground_truths = [], []                      # 儲存所有的預測結果和對應的真實標籤。\n",
    "    for ID, labels, images in train_loader:\n",
    "        labels = labels.to(device=device, dtype=torch.long)  # nn.CrossEntropyLoss 要求 label 必須是長整數型態，一般的 int 不行。\n",
    "        images = images.to(device=device, dtype=torch.float) # 將 image 移動到指定的設備（例如 GPU）上，並確保其資料型態為 float。\n",
    "        \n",
    "        optimizer.zero_grad()                                # 清空 optimizer 的梯度，避免梯度累加\n",
    "        logits = model(images)                               # 將 image 輸入 model ，計算輸出的 logits。\n",
    "        loss = criterion(logits, labels)                     # 計算 model 輸出與真實標籤之間的損失（loss）\n",
    "        loss.backward()                                      # 計算 loss 對 model 參數的梯度\n",
    "        \n",
    "        optimizer.step()                                     # 更新 model 參數\n",
    "        \n",
    "        train_loss += loss.item()                            # 將當前 batch 的損失累加到總損失中。\n",
    "        preds = torch.argmax(logits, dim=1)                  # 獲取機率最大的類別，當作預測\n",
    "        \n",
    "        predictions.append(preds)                            # 新增預測結果\n",
    "        ground_truths.append(labels)                         # 新增真實標籤\n",
    "        \n",
    "    scheduler.step()                                         # 更新 lr 的參數，這裡要注意它不是放在 for loop 裡面，因為我們是算完一個 ep 才記一次 lr 。\n",
    "    \n",
    "    train_loss /= len(train_loader)                          # 計算整個 epoch 的平均損失\n",
    "    \n",
    "    predictions = torch.cat(predictions)                     # 將所有 batch 的預測結果拼成一個完整的張量。\n",
    "    ground_truths = torch.cat(ground_truths)                 # 將所有的真實標籤拼成一個完整的張量。\n",
    "    \n",
    "    train_acc, train_f1, train_misclass = evaluator(predictions, ground_truths) # 計算當前 epoch 的 acc 、 F1 score 和 misclassification_rate\n",
    "    \n",
    "    return train_loss, 100*train_acc, 100*train_f1, 100*train_misclass"
   ]
  },
  {
   "cell_type": "markdown",
   "metadata": {},
   "source": [
    "## Validation"
   ]
  },
  {
   "cell_type": "code",
   "execution_count": 18,
   "metadata": {},
   "outputs": [],
   "source": [
    "# TODO_7: 助教挖掉了一小部分，請你讓它可以運作起來。\n",
    "def validation(model, valid_loader, criterion, device):\n",
    "    model.eval()\n",
    "    valid_loss = 0.0\n",
    "    predictions, ground_truths = [],[]\n",
    "    with torch.no_grad(): # 不計算梯度\n",
    "        for ID, labels, images in valid_loader:\n",
    "            labels = labels.to(device)\n",
    "            images = images.to(device)\n",
    "            \n",
    "            # validation 不需要計算梯度，所以不用 optimizer 、 loss.backward() 、 scheduler\n",
    "            logits = model(images)\n",
    "            loss =  criterion(logits, labels)\n",
    "            \n",
    "            valid_loss += loss.item()\n",
    "            preds = torch.argmax(logits, dim=1)\n",
    "        \n",
    "            predictions.extend(preds.cpu().numpy())\n",
    "            ground_truths.extend(labels.cpu().numpy())\n",
    "        \n",
    "    valid_loss /= len(valid_loader)\n",
    "    \n",
    "    predictions = np.array(predictions)\n",
    "    ground_truths = np.array(ground_truths)\n",
    "    \n",
    "    valid_acc, valid_f1, valid_misclass = evaluator(predictions, ground_truths)\n",
    "    \n",
    "    return valid_loss, 100*valid_acc, 100*valid_f1, 100*valid_misclass"
   ]
  },
  {
   "cell_type": "code",
   "execution_count": 19,
   "metadata": {},
   "outputs": [],
   "source": [
    "def Run():\n",
    "    \n",
    "    seed_everything(config.seed)\n",
    "    device = config.device\n",
    "    \n",
    "    train_data = pd.read_csv('zip.train.csv', header=None)\n",
    "    \n",
    "    # TODO_8: split the training dataset in a 80: 20，填寫 train_size= , test_size= 。\n",
    "    train_dataset, val_dataset = train_test_split(train_data, train_size=0.8 , test_size=0.2 , random_state=config.seed)\n",
    "    \n",
    "    # TODO_9: val_dataset = \n",
    "    train_dataset = HandwrittenDigits(train_dataset, mode = \"train\")\n",
    "    val_dataset = HandwrittenDigits(val_dataset, mode=\"valid\")\n",
    "    \n",
    "    train_loader = torch.utils.data.DataLoader(train_dataset, batch_size=config.batch_size, shuffle=True)\n",
    "    val_loader = torch.utils.data.DataLoader(val_dataset, batch_size=config.batch_size, shuffle=False)\n",
    "    \n",
    "    criterion = nn.CrossEntropyLoss()\n",
    "    \n",
    "    model =  SimpleNN(input_dim=256, output_dim=10)\n",
    "    model.to(device)\n",
    "    \n",
    "    # TODO_10: 調整適當的 optimizer、scheduler，不調也可以，但排名不容許你這樣做。\n",
    "    parameters = [p for p in model.parameters() if p.requires_grad]  # 對 model 的所有參數，抓取那些需要計算梯度的參數用於更新\n",
    "    # AdamW optimizer with learning rate and weight decay as per the config\n",
    "    optimizer = torch.optim.Adam(model.parameters(), lr=config.lr, weight_decay=config.weight_decay)  \n",
    "    scheduler = torch.optim.lr_scheduler.StepLR(optimizer, step_size = 10, gamma = 0.1)\n",
    "\n",
    "    # 參考網站: https://pytorch.org/docs/stable/optim.html\n",
    "    \n",
    "    best_val_loss = float(\"inf\")\n",
    "    history = {\n",
    "        \"train\": {\n",
    "            \"loss\": [],\n",
    "            \"acc\": [],\n",
    "            \"f1\": [],\n",
    "            \"misclass\": []\n",
    "        },\n",
    "        \"valid\": {\n",
    "            \"loss\": [],\n",
    "            \"acc\": [],\n",
    "            \"f1\": [],\n",
    "            \"misclass\": []\n",
    "        },\n",
    "    }\n",
    "    for epoch in range(config.epochs):\n",
    "        train_loss, train_acc, train_f1, train_misclass = train_one_epoch(model, train_loader, optimizer, scheduler, criterion, device)\n",
    "        valid_loss, valid_acc, valid_f1, valid_misclass = validation(model, val_loader, criterion, device)\n",
    "        \n",
    "        # Log the loss and validation result\n",
    "        history[\"train\"][\"loss\"].append(train_loss)\n",
    "        history[\"train\"][\"acc\"].append(train_acc)\n",
    "        history[\"train\"][\"f1\"].append(train_f1)\n",
    "        history[\"train\"][\"misclass\"].append(train_misclass)\n",
    "        history[\"valid\"][\"loss\"].append(valid_loss)\n",
    "        history[\"valid\"][\"acc\"].append(valid_acc)\n",
    "        history[\"valid\"][\"f1\"].append(valid_f1)\n",
    "        history[\"valid\"][\"misclass\"].append(valid_misclass)\n",
    "\n",
    "        print(f'Epoch[{epoch+1}/{config.epochs}], Train Loss: {train_loss:.4f}, Train Acc: {train_acc:.2f}%, Train F1: {train_f1:.2f}% | Valid Loss: {valid_loss:.4f}, Valid Acc: {valid_acc:.2f}%, Valid F1: {valid_f1:.2f}%, Valid Misclass: {valid_misclass:.2f}% | LR: {optimizer.state_dict()[\"param_groups\"][0][\"lr\"]:.6f}')\n",
    "    \n",
    "        if valid_loss < best_val_loss:\n",
    "            save_file = {\n",
    "                \"model\": model.state_dict(),\n",
    "                \"optimizer\": optimizer.state_dict(),\n",
    "                \"scheduler\": scheduler.state_dict(),\n",
    "                \"epoch\": epoch,\n",
    "                \"args\": config\n",
    "            }\n",
    "            best_val_loss = valid_loss\n",
    "            torch.save(save_file, \"checkpoint.pth\")\n",
    "    \n",
    "    plt.figure(figsize=(12, 5))\n",
    "    plt.subplot(1, 2, 1)\n",
    "    plt.plot(range(config.epochs), history[\"train\"][\"loss\"], label='Training Loss')\n",
    "    plt.plot(range(config.epochs), history[\"valid\"][\"loss\"], label='Validation Loss')\n",
    "    plt.xlabel('Epoch')\n",
    "    plt.ylabel('Loss')\n",
    "    plt.legend()\n",
    "    plt.title('Training and Validation Loss Curves')\n",
    "    plt.show()\n",
    "    \n",
    "    plt.figure(figsize=(12, 5))\n",
    "    plt.subplot(1, 2, 1)\n",
    "    plt.plot(range(config.epochs), history[\"train\"][\"acc\"], label='Training Acc')\n",
    "    plt.plot(range(config.epochs), history[\"valid\"][\"acc\"], label='Validation Acc')\n",
    "    plt.xlabel('Epoch')\n",
    "    plt.ylabel('Acc')\n",
    "    plt.legend()\n",
    "    plt.title('Training and Validation Accuracy Curves')\n",
    "    plt.show()\n",
    "    \n",
    "    plt.figure(figsize=(12, 5))\n",
    "    plt.subplot(1, 2, 1)\n",
    "    plt.plot(range(config.epochs), history[\"train\"][\"f1\"], label='Training F1')\n",
    "    plt.plot(range(config.epochs), history[\"valid\"][\"f1\"], label='Validation F1')\n",
    "    plt.xlabel('Epoch')\n",
    "    plt.ylabel('F1')\n",
    "    plt.legend()\n",
    "    plt.title('Training and Validation F1 Score Curves')\n",
    "    plt.show()\n",
    "    \n",
    "    # TODO_11: 畫出 train 跟 valid 的 Misclassification Rate 圖。 (4 pts)\n",
    "    plt.figure(figsize=(12, 5))\n",
    "    plt.plot(range(config.epochs), history[\"train\"][\"misclass\"], label='Training Misclassification Rate')\n",
    "    plt.plot(range(config.epochs), history[\"valid\"][\"misclass\"], label='Validation Misclassification Rate')\n",
    "    plt.xlabel('Epoch')\n",
    "    plt.ylabel('Misclassification Rate')\n",
    "    plt.legend()\n",
    "    plt.title('Training and Validation Misclassification Rate Curves')\n",
    "    plt.show()"
   ]
  },
  {
   "cell_type": "code",
   "execution_count": 20,
   "metadata": {},
   "outputs": [
    {
     "name": "stdout",
     "output_type": "stream",
     "text": [
      "Epoch[1/50], Train Loss: 0.8995, Train Acc: 81.69%, Train F1: 80.12% | Valid Loss: 0.3733, Valid Acc: 95.34%, Valid F1: 94.64%, Valid Misclass: 4.66% | LR: 0.001000\n",
      "Epoch[2/50], Train Loss: 0.3634, Train Acc: 94.56%, Train F1: 94.00% | Valid Loss: 0.2219, Valid Acc: 96.30%, Valid F1: 95.80%, Valid Misclass: 3.70% | LR: 0.001000\n",
      "Epoch[3/50], Train Loss: 0.2497, Train Acc: 96.09%, Train F1: 95.70% | Valid Loss: 0.2097, Valid Acc: 94.93%, Valid F1: 94.44%, Valid Misclass: 5.07% | LR: 0.001000\n",
      "Epoch[4/50], Train Loss: 0.2139, Train Acc: 96.66%, Train F1: 96.34% | Valid Loss: 0.1368, Valid Acc: 97.60%, Valid F1: 97.19%, Valid Misclass: 2.40% | LR: 0.001000\n",
      "Epoch[5/50], Train Loss: 0.2031, Train Acc: 97.17%, Train F1: 96.90% | Valid Loss: 0.1393, Valid Acc: 97.05%, Valid F1: 96.68%, Valid Misclass: 2.95% | LR: 0.001000\n",
      "Epoch[6/50], Train Loss: 0.2184, Train Acc: 95.80%, Train F1: 95.45% | Valid Loss: 0.1508, Valid Acc: 96.85%, Valid F1: 96.51%, Valid Misclass: 3.15% | LR: 0.001000\n",
      "Epoch[7/50], Train Loss: 0.1532, Train Acc: 98.03%, Train F1: 97.83% | Valid Loss: 0.1208, Valid Acc: 97.33%, Valid F1: 96.98%, Valid Misclass: 2.67% | LR: 0.001000\n",
      "Epoch[8/50], Train Loss: 0.1669, Train Acc: 97.53%, Train F1: 97.26% | Valid Loss: 0.1242, Valid Acc: 97.19%, Valid F1: 96.87%, Valid Misclass: 2.81% | LR: 0.001000\n",
      "Epoch[9/50], Train Loss: 0.1695, Train Acc: 97.26%, Train F1: 97.01% | Valid Loss: 0.1326, Valid Acc: 97.40%, Valid F1: 97.04%, Valid Misclass: 2.60% | LR: 0.001000\n",
      "Epoch[10/50], Train Loss: 0.1419, Train Acc: 98.22%, Train F1: 98.05% | Valid Loss: 0.1524, Valid Acc: 96.78%, Valid F1: 96.37%, Valid Misclass: 3.22% | LR: 0.000100\n",
      "Epoch[11/50], Train Loss: 0.1044, Train Acc: 99.19%, Train F1: 99.15% | Valid Loss: 0.0897, Valid Acc: 97.74%, Valid F1: 97.48%, Valid Misclass: 2.26% | LR: 0.000100\n",
      "Epoch[12/50], Train Loss: 0.0962, Train Acc: 99.55%, Train F1: 99.53% | Valid Loss: 0.0851, Valid Acc: 97.81%, Valid F1: 97.54%, Valid Misclass: 2.19% | LR: 0.000100\n",
      "Epoch[13/50], Train Loss: 0.0868, Train Acc: 99.62%, Train F1: 99.58% | Valid Loss: 0.0833, Valid Acc: 97.81%, Valid F1: 97.55%, Valid Misclass: 2.19% | LR: 0.000100\n",
      "Epoch[14/50], Train Loss: 0.0848, Train Acc: 99.74%, Train F1: 99.72% | Valid Loss: 0.0813, Valid Acc: 98.08%, Valid F1: 97.87%, Valid Misclass: 1.92% | LR: 0.000100\n",
      "Epoch[15/50], Train Loss: 0.0862, Train Acc: 99.64%, Train F1: 99.62% | Valid Loss: 0.0812, Valid Acc: 98.01%, Valid F1: 97.79%, Valid Misclass: 1.99% | LR: 0.000100\n",
      "Epoch[16/50], Train Loss: 0.0897, Train Acc: 99.69%, Train F1: 99.67% | Valid Loss: 0.0836, Valid Acc: 98.01%, Valid F1: 97.84%, Valid Misclass: 1.99% | LR: 0.000100\n",
      "Epoch[17/50], Train Loss: 0.0912, Train Acc: 99.76%, Train F1: 99.74% | Valid Loss: 0.0805, Valid Acc: 98.01%, Valid F1: 97.81%, Valid Misclass: 1.99% | LR: 0.000100\n",
      "Epoch[18/50], Train Loss: 0.0858, Train Acc: 99.69%, Train F1: 99.67% | Valid Loss: 0.0798, Valid Acc: 97.94%, Valid F1: 97.72%, Valid Misclass: 2.06% | LR: 0.000100\n",
      "Epoch[19/50], Train Loss: 0.0868, Train Acc: 99.81%, Train F1: 99.80% | Valid Loss: 0.0812, Valid Acc: 98.15%, Valid F1: 97.90%, Valid Misclass: 1.85% | LR: 0.000100\n",
      "Epoch[20/50], Train Loss: 0.0849, Train Acc: 99.74%, Train F1: 99.74% | Valid Loss: 0.0785, Valid Acc: 98.22%, Valid F1: 98.01%, Valid Misclass: 1.78% | LR: 0.000010\n",
      "Epoch[21/50], Train Loss: 0.0837, Train Acc: 99.76%, Train F1: 99.73% | Valid Loss: 0.0770, Valid Acc: 98.15%, Valid F1: 97.94%, Valid Misclass: 1.85% | LR: 0.000010\n",
      "Epoch[22/50], Train Loss: 0.0760, Train Acc: 99.93%, Train F1: 99.93% | Valid Loss: 0.0802, Valid Acc: 98.22%, Valid F1: 98.02%, Valid Misclass: 1.78% | LR: 0.000010\n",
      "Epoch[23/50], Train Loss: 0.0816, Train Acc: 99.88%, Train F1: 99.87% | Valid Loss: 0.0773, Valid Acc: 98.29%, Valid F1: 98.09%, Valid Misclass: 1.71% | LR: 0.000010\n",
      "Epoch[24/50], Train Loss: 0.0826, Train Acc: 99.79%, Train F1: 99.78% | Valid Loss: 0.0754, Valid Acc: 98.15%, Valid F1: 97.92%, Valid Misclass: 1.85% | LR: 0.000010\n",
      "Epoch[25/50], Train Loss: 0.0772, Train Acc: 99.88%, Train F1: 99.88% | Valid Loss: 0.0776, Valid Acc: 98.29%, Valid F1: 98.06%, Valid Misclass: 1.71% | LR: 0.000010\n",
      "Epoch[26/50], Train Loss: 0.0858, Train Acc: 99.79%, Train F1: 99.78% | Valid Loss: 0.0778, Valid Acc: 98.29%, Valid F1: 98.07%, Valid Misclass: 1.71% | LR: 0.000010\n",
      "Epoch[27/50], Train Loss: 0.0789, Train Acc: 99.88%, Train F1: 99.87% | Valid Loss: 0.0771, Valid Acc: 98.22%, Valid F1: 98.02%, Valid Misclass: 1.78% | LR: 0.000010\n",
      "Epoch[28/50], Train Loss: 0.0753, Train Acc: 99.85%, Train F1: 99.83% | Valid Loss: 0.0762, Valid Acc: 98.36%, Valid F1: 98.17%, Valid Misclass: 1.64% | LR: 0.000010\n",
      "Epoch[29/50], Train Loss: 0.0768, Train Acc: 99.86%, Train F1: 99.86% | Valid Loss: 0.0754, Valid Acc: 98.29%, Valid F1: 98.08%, Valid Misclass: 1.71% | LR: 0.000010\n",
      "Epoch[30/50], Train Loss: 0.0789, Train Acc: 99.86%, Train F1: 99.85% | Valid Loss: 0.0786, Valid Acc: 98.15%, Valid F1: 97.96%, Valid Misclass: 1.85% | LR: 0.000001\n",
      "Epoch[31/50], Train Loss: 0.0748, Train Acc: 99.93%, Train F1: 99.93% | Valid Loss: 0.0755, Valid Acc: 98.36%, Valid F1: 98.18%, Valid Misclass: 1.64% | LR: 0.000001\n",
      "Epoch[32/50], Train Loss: 0.0755, Train Acc: 99.88%, Train F1: 99.87% | Valid Loss: 0.0766, Valid Acc: 98.42%, Valid F1: 98.25%, Valid Misclass: 1.58% | LR: 0.000001\n",
      "Epoch[33/50], Train Loss: 0.0779, Train Acc: 99.90%, Train F1: 99.89% | Valid Loss: 0.0754, Valid Acc: 98.29%, Valid F1: 98.11%, Valid Misclass: 1.71% | LR: 0.000001\n",
      "Epoch[34/50], Train Loss: 0.0796, Train Acc: 99.81%, Train F1: 99.80% | Valid Loss: 0.0752, Valid Acc: 98.29%, Valid F1: 98.09%, Valid Misclass: 1.71% | LR: 0.000001\n",
      "Epoch[35/50], Train Loss: 0.0773, Train Acc: 99.79%, Train F1: 99.79% | Valid Loss: 0.0752, Valid Acc: 98.36%, Valid F1: 98.17%, Valid Misclass: 1.64% | LR: 0.000001\n",
      "Epoch[36/50], Train Loss: 0.0748, Train Acc: 99.78%, Train F1: 99.76% | Valid Loss: 0.0746, Valid Acc: 98.29%, Valid F1: 98.09%, Valid Misclass: 1.71% | LR: 0.000001\n",
      "Epoch[37/50], Train Loss: 0.0801, Train Acc: 99.81%, Train F1: 99.80% | Valid Loss: 0.0763, Valid Acc: 98.29%, Valid F1: 98.11%, Valid Misclass: 1.71% | LR: 0.000001\n",
      "Epoch[38/50], Train Loss: 0.0786, Train Acc: 99.83%, Train F1: 99.82% | Valid Loss: 0.0745, Valid Acc: 98.22%, Valid F1: 98.02%, Valid Misclass: 1.78% | LR: 0.000001\n",
      "Epoch[39/50], Train Loss: 0.0803, Train Acc: 99.83%, Train F1: 99.82% | Valid Loss: 0.0757, Valid Acc: 98.36%, Valid F1: 98.16%, Valid Misclass: 1.64% | LR: 0.000001\n",
      "Epoch[40/50], Train Loss: 0.0759, Train Acc: 99.86%, Train F1: 99.86% | Valid Loss: 0.0767, Valid Acc: 98.29%, Valid F1: 98.07%, Valid Misclass: 1.71% | LR: 0.000000\n",
      "Epoch[41/50], Train Loss: 0.0749, Train Acc: 99.85%, Train F1: 99.83% | Valid Loss: 0.0768, Valid Acc: 98.29%, Valid F1: 98.07%, Valid Misclass: 1.71% | LR: 0.000000\n",
      "Epoch[42/50], Train Loss: 0.0772, Train Acc: 99.88%, Train F1: 99.88% | Valid Loss: 0.0760, Valid Acc: 98.36%, Valid F1: 98.16%, Valid Misclass: 1.64% | LR: 0.000000\n",
      "Epoch[43/50], Train Loss: 0.0849, Train Acc: 99.83%, Train F1: 99.82% | Valid Loss: 0.0748, Valid Acc: 98.15%, Valid F1: 97.91%, Valid Misclass: 1.85% | LR: 0.000000\n",
      "Epoch[44/50], Train Loss: 0.0844, Train Acc: 99.79%, Train F1: 99.78% | Valid Loss: 0.0758, Valid Acc: 98.36%, Valid F1: 98.18%, Valid Misclass: 1.64% | LR: 0.000000\n",
      "Epoch[45/50], Train Loss: 0.0712, Train Acc: 99.91%, Train F1: 99.91% | Valid Loss: 0.0767, Valid Acc: 98.36%, Valid F1: 98.16%, Valid Misclass: 1.64% | LR: 0.000000\n",
      "Epoch[46/50], Train Loss: 0.0790, Train Acc: 99.86%, Train F1: 99.85% | Valid Loss: 0.0747, Valid Acc: 98.36%, Valid F1: 98.18%, Valid Misclass: 1.64% | LR: 0.000000\n",
      "Epoch[47/50], Train Loss: 0.0772, Train Acc: 99.85%, Train F1: 99.84% | Valid Loss: 0.0758, Valid Acc: 98.22%, Valid F1: 98.02%, Valid Misclass: 1.78% | LR: 0.000000\n",
      "Epoch[48/50], Train Loss: 0.0823, Train Acc: 99.83%, Train F1: 99.81% | Valid Loss: 0.0746, Valid Acc: 98.29%, Valid F1: 98.10%, Valid Misclass: 1.71% | LR: 0.000000\n",
      "Epoch[49/50], Train Loss: 0.0750, Train Acc: 99.85%, Train F1: 99.83% | Valid Loss: 0.0736, Valid Acc: 98.22%, Valid F1: 98.02%, Valid Misclass: 1.78% | LR: 0.000000\n",
      "Epoch[50/50], Train Loss: 0.0743, Train Acc: 99.83%, Train F1: 99.82% | Valid Loss: 0.0764, Valid Acc: 98.22%, Valid F1: 98.00%, Valid Misclass: 1.78% | LR: 0.000000\n"
     ]
    },
    {
     "data": {
      "image/png": "[encoded data removed]",
      "text/plain": [
       "<Figure size 1200x500 with 1 Axes>"
      ]
     },
     "metadata": {},
     "output_type": "display_data"
    },
    {
     "data": {
      "image/png": "[encoded data removed]",
      "text/plain": [
       "<Figure size 1200x500 with 1 Axes>"
      ]
     },
     "metadata": {},
     "output_type": "display_data"
    },
    {
     "data": {
      "image/png": "[encoded data removed]",
      "text/plain": [
       "<Figure size 1200x500 with 1 Axes>"
      ]
     },
     "metadata": {},
     "output_type": "display_data"
    },
    {
     "data": {
      "image/png": "[encoded data removed]",
      "text/plain": [
       "<Figure size 1200x500 with 1 Axes>"
      ]
     },
     "metadata": {},
     "output_type": "display_data"
    }
   ],
   "source": [
    "Run()"
   ]
  },
  {
   "cell_type": "markdown",
   "metadata": {},
   "source": [
    "## testing"
   ]
  },
  {
   "cell_type": "code",
   "execution_count": 21,
   "metadata": {},
   "outputs": [],
   "source": [
    "# TODO_12: 在 testing 這個 def 填空格。\n",
    "def testing(model, test_loader, device):\n",
    "    model.eval()\n",
    "    all_ids = []\n",
    "    all_preds = []\n",
    "    \n",
    "    with torch.no_grad():\n",
    "        for ID, images in test_loader:\n",
    "            images = images.to(device) \n",
    "            logits = model(images)\n",
    "            preds = torch.argmax(logits, dim=1) \n",
    "            all_ids.extend(ID)\n",
    "            all_preds.extend(preds.cpu().numpy())\n",
    "    \n",
    "    return all_ids, all_preds"
   ]
  },
  {
   "cell_type": "code",
   "execution_count": 22,
   "metadata": {},
   "outputs": [
    {
     "name": "stdout",
     "output_type": "stream",
     "text": [
      "        0    1    2    3      4      5      6      7      8      9    ...  \\\n",
      "0        B1 -1.0 -1.0 -1.0 -1.000 -1.000 -0.948 -0.561  0.148  0.384  ...   \n",
      "1        B2 -1.0 -1.0 -1.0 -1.000 -1.000 -1.000 -1.000 -1.000 -1.000  ...   \n",
      "2        B3 -1.0 -1.0 -1.0 -0.593  0.700  1.000  1.000  1.000  1.000  ...   \n",
      "3        B4 -1.0 -1.0 -1.0 -1.000 -1.000 -1.000 -1.000 -1.000 -1.000  ...   \n",
      "4        B5 -1.0 -1.0 -1.0 -1.000 -1.000 -1.000 -1.000 -0.858 -0.106  ...   \n",
      "...     ...  ...  ...  ...    ...    ...    ...    ...    ...    ...  ...   \n",
      "2002  B2003 -1.0 -1.0 -1.0 -1.000 -1.000 -0.417  0.814  1.000  0.775  ...   \n",
      "2003  B2004 -1.0 -1.0 -1.0 -1.000 -1.000 -1.000 -0.855  0.209  0.941  ...   \n",
      "2004  B2005 -1.0 -1.0 -1.0 -1.000 -0.031  0.752 -0.431 -1.000 -1.000  ...   \n",
      "2005  B2006 -1.0 -1.0 -1.0 -1.000 -0.534  0.578  1.000  0.301 -0.328  ...   \n",
      "2006  B2007 -1.0 -1.0 -1.0 -1.000 -1.000 -1.000 -1.000  0.399  0.949  ...   \n",
      "\n",
      "        247    248    249    250    251    252  253  254  255  256  \n",
      "0    -1.000 -0.908  0.430  0.622 -0.973 -1.000 -1.0 -1.0 -1.0 -1.0  \n",
      "1    -1.000 -1.000 -1.000 -1.000 -1.000 -1.000 -1.0 -1.0 -1.0 -1.0  \n",
      "2     1.000  0.717  0.333  0.162 -0.393 -1.000 -1.0 -1.0 -1.0 -1.0  \n",
      "3    -1.000 -1.000 -1.000 -1.000 -1.000 -1.000 -1.0 -1.0 -1.0 -1.0  \n",
      "4     0.901  0.901  0.901  0.290 -0.369 -0.867 -1.0 -1.0 -1.0 -1.0  \n",
      "...     ...    ...    ...    ...    ...    ...  ...  ...  ...  ...  \n",
      "2002  1.000  1.000  0.554  0.184 -0.484 -1.000 -1.0 -1.0 -1.0 -1.0  \n",
      "2003 -1.000  0.319  1.000  0.056 -1.000 -1.000 -1.0 -1.0 -1.0 -1.0  \n",
      "2004  1.000  0.928 -0.393 -1.000 -1.000 -1.000 -1.0 -1.0 -1.0 -1.0  \n",
      "2005  1.000  0.430  0.200 -0.061 -0.975 -1.000 -1.0 -1.0 -1.0 -1.0  \n",
      "2006 -1.000 -0.505  0.907  0.655 -0.950 -1.000 -1.0 -1.0 -1.0 -1.0  \n",
      "\n",
      "[2007 rows x 257 columns]\n"
     ]
    }
   ],
   "source": [
    "seed_everything(config.seed)\n",
    "device = config.device\n",
    "\n",
    "# TODO_13: 填寫test_data、test_dataset、test_loader、model四個空格， Hint: test_loader 的 shuffle=False，不然你會出大事。\n",
    "test_data = pd.read_csv('zip.test.csv', header=None)\n",
    "print(test_data)\n",
    "\n",
    "test_dataset =HandwrittenDigits(test_data, mode=\"test\")\n",
    "test_loader = torch.utils.data.DataLoader(test_dataset, batch_size=config.batch_size, shuffle=False)\n",
    "\n",
    "model =  SimpleNN(input_dim=256, output_dim=10)\n",
    "model.to(device)\n",
    "best_ckpt = torch.load(\"checkpoint.pth\", map_location=device)\n",
    "model.load_state_dict(best_ckpt[\"model\"])\n",
    "\n",
    "ids, preds = testing(model, test_loader, device)"
   ]
  },
  {
   "cell_type": "code",
   "execution_count": 23,
   "metadata": {},
   "outputs": [
    {
     "name": "stdout",
     "output_type": "stream",
     "text": [
      "         ID  Class\n",
      "0        B1      9\n",
      "1        B2      6\n",
      "2        B3      3\n",
      "3        B4      6\n",
      "4        B5      6\n",
      "...     ...    ...\n",
      "2002  B2003      3\n",
      "2003  B2004      9\n",
      "2004  B2005      4\n",
      "2005  B2006      0\n",
      "2006  B2007      1\n",
      "\n",
      "[2007 rows x 2 columns]\n"
     ]
    }
   ],
   "source": [
    "# Get predictions\n",
    "ids, preds = testing(model, test_loader, device)\n",
    "\n",
    "# Create DataFrame\n",
    "results_df = pd.DataFrame({\n",
    "    'ID': ids,\n",
    "    'Class': preds\n",
    "})\n",
    "\n",
    "print(results_df)\n",
    "\n",
    "# TODO_14: 為輸出的 csv 檔命名。\n",
    "results_df.to_csv('test_predictions.csv', index=False)"
   ]
  }
 ],
 "metadata": {
  "kaggle": {
   "accelerator": "none",
   "dataSources": [
    {
     "datasetId": 5636111,
     "sourceId": 9307079,
     "sourceType": "datasetVersion"
    }
   ],
   "dockerImageVersionId": 30761,
   "isGpuEnabled": false,
   "isInternetEnabled": true,
   "language": "python",
   "sourceType": "notebook"
  },
  "kernelspec": {
   "display_name": "Python 3 (ipykernel)",
   "language": "python",
   "name": "python3"
  },
  "language_info": {
   "codemirror_mode": {
    "name": "ipython",
    "version": 3
   },
   "file_extension": ".py",
   "mimetype": "text/x-python",
   "name": "python",
   "nbconvert_exporter": "python",
   "pygments_lexer": "ipython3",
   "version": "3.12.4"
  }
 },
 "nbformat": 4,
 "nbformat_minor": 4
}
